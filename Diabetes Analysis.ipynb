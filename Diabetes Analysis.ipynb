{
 "cells": [
  {
   "cell_type": "markdown",
   "metadata": {},
   "source": [
    "## Import Packages"
   ]
  },
  {
   "cell_type": "code",
   "execution_count": 172,
   "metadata": {},
   "outputs": [],
   "source": [
    "import pandas as pd\n",
    "import numpy as np\n",
    "import matplotlib.pyplot as plt\n",
    "from sklearn import linear_model\n",
    " \n",
    "import math \n",
    "from scipy import stats\n",
    "from sklearn.preprocessing import StandardScaler\n",
    "from sklearn.decomposition import PCA\n",
    "from sklearn.datasets import load_iris\n",
    "from sklearn.feature_selection import SelectKBest\n",
    "from sklearn import svm\n",
    "from sklearn.model_selection import cross_val_score\n",
    "from sklearn.model_selection import KFold\n",
    "from sklearn.metrics import classification_report\n",
    "import pickle\n",
    "from sklearn.model_selection import train_test_split\n",
    "import warnings"
   ]
  },
  {
   "cell_type": "markdown",
   "metadata": {},
   "source": [
    "## Load Data Sheets"
   ]
  },
  {
   "cell_type": "code",
   "execution_count": 173,
   "metadata": {},
   "outputs": [],
   "source": [
    "Data_LinReg2=pd.read_excel('PracticeTestV2.xlsx', sheet_name='Data_LinReg2')\n",
    "Data_LinReg7=pd.read_excel('PracticeTestV2.xlsx', sheet_name='Data_LinReg7')\n",
    "Data=pd.read_excel('PracticeTestV2.xlsx', sheet_name='Data')"
   ]
  },
  {
   "cell_type": "markdown",
   "metadata": {},
   "source": [
    "## Q1 Perform Multiple Linear Regression on Data_LinReg2"
   ]
  },
  {
   "cell_type": "markdown",
   "metadata": {},
   "source": [
    "#### Residual Standard Error: Essentially standard deviation of residuals / errors of your regression model.\n",
    "#### Multiple R-Squared: Percent of the variance of Y intact after subtracting the error of the model.\n",
    "#### Adjusted R-Squared: Same as multiple R-Squared but takes into account the number of samples and variables you’re using.\n",
    "#### F-Statistic: Global test to check if your model has at least one significant variable.  Takes into account number of variables and observations used."
   ]
  },
  {
   "cell_type": "markdown",
   "metadata": {},
   "source": [
    "**The result shows:**\n",
    "* Residual standard error: 0.015736669003935746\n",
    "* Multiple R-squared: 0.971\n",
    "* Adjusted R-squared: 0.961\n",
    "* F-statistic: 99.20\n",
    "* p-value_DiabetesType: 0.664815, \n",
    "* p-value_DurationRange2: 0.000560"
   ]
  },
  {
   "cell_type": "code",
   "execution_count": 174,
   "metadata": {},
   "outputs": [
    {
     "data": {
      "text/html": [
       "<div>\n",
       "<style scoped>\n",
       "    .dataframe tbody tr th:only-of-type {\n",
       "        vertical-align: middle;\n",
       "    }\n",
       "\n",
       "    .dataframe tbody tr th {\n",
       "        vertical-align: top;\n",
       "    }\n",
       "\n",
       "    .dataframe thead th {\n",
       "        text-align: right;\n",
       "    }\n",
       "</style>\n",
       "<table border=\"1\" class=\"dataframe\">\n",
       "  <thead>\n",
       "    <tr style=\"text-align: right;\">\n",
       "      <th></th>\n",
       "      <th>DiabetesType</th>\n",
       "      <th>DurationRange2</th>\n",
       "      <th>ActualProbAdj</th>\n",
       "    </tr>\n",
       "  </thead>\n",
       "  <tbody>\n",
       "    <tr>\n",
       "      <th>0</th>\n",
       "      <td>0</td>\n",
       "      <td>0</td>\n",
       "      <td>0.000954</td>\n",
       "    </tr>\n",
       "    <tr>\n",
       "      <th>1</th>\n",
       "      <td>1</td>\n",
       "      <td>0</td>\n",
       "      <td>0.012289</td>\n",
       "    </tr>\n",
       "    <tr>\n",
       "      <th>2</th>\n",
       "      <td>2</td>\n",
       "      <td>1</td>\n",
       "      <td>0.015495</td>\n",
       "    </tr>\n",
       "    <tr>\n",
       "      <th>3</th>\n",
       "      <td>3</td>\n",
       "      <td>1</td>\n",
       "      <td>0.030744</td>\n",
       "    </tr>\n",
       "    <tr>\n",
       "      <th>4</th>\n",
       "      <td>2</td>\n",
       "      <td>2</td>\n",
       "      <td>0.103146</td>\n",
       "    </tr>\n",
       "    <tr>\n",
       "      <th>5</th>\n",
       "      <td>3</td>\n",
       "      <td>2</td>\n",
       "      <td>0.096045</td>\n",
       "    </tr>\n",
       "    <tr>\n",
       "      <th>6</th>\n",
       "      <td>2</td>\n",
       "      <td>3</td>\n",
       "      <td>0.121673</td>\n",
       "    </tr>\n",
       "    <tr>\n",
       "      <th>7</th>\n",
       "      <td>3</td>\n",
       "      <td>3</td>\n",
       "      <td>0.120879</td>\n",
       "    </tr>\n",
       "  </tbody>\n",
       "</table>\n",
       "</div>"
      ],
      "text/plain": [
       "   DiabetesType  DurationRange2  ActualProbAdj\n",
       "0             0               0       0.000954\n",
       "1             1               0       0.012289\n",
       "2             2               1       0.015495\n",
       "3             3               1       0.030744\n",
       "4             2               2       0.103146\n",
       "5             3               2       0.096045\n",
       "6             2               3       0.121673\n",
       "7             3               3       0.120879"
      ]
     },
     "execution_count": 174,
     "metadata": {},
     "output_type": "execute_result"
    }
   ],
   "source": [
    "Data_LinReg2"
   ]
  },
  {
   "cell_type": "code",
   "execution_count": 175,
   "metadata": {},
   "outputs": [
    {
     "name": "stdout",
     "output_type": "stream",
     "text": [
      "Intercept: \n",
      " 0.004285281644533054\n",
      "Coefficients: \n",
      " [-0.00427095  0.04460652]\n",
      "                                 OLS Regression Results                                \n",
      "=======================================================================================\n",
      "Dep. Variable:          ActualProbAdj   R-squared (uncentered):                   0.971\n",
      "Model:                            OLS   Adj. R-squared (uncentered):              0.961\n",
      "Method:                 Least Squares   F-statistic:                              99.20\n",
      "Date:                Sat, 28 Nov 2020   Prob (F-statistic):                    2.53e-05\n",
      "Time:                        01:21:48   Log-Likelihood:                          23.013\n",
      "No. Observations:                   8   AIC:                                     -42.03\n",
      "Df Residuals:                       6   BIC:                                     -41.87\n",
      "Df Model:                           2                                                  \n",
      "Covariance Type:            nonrobust                                                  \n",
      "==================================================================================\n",
      "                     coef    std err          t      P>|t|      [0.025      0.975]\n",
      "----------------------------------------------------------------------------------\n",
      "DiabetesType      -0.0026      0.006     -0.455      0.665      -0.016       0.011\n",
      "DurationRange2     0.0446      0.007      6.648      0.001       0.028       0.061\n",
      "==============================================================================\n",
      "Omnibus:                        0.230   Durbin-Watson:                   2.116\n",
      "Prob(Omnibus):                  0.891   Jarque-Bera (JB):                0.364\n",
      "Skew:                          -0.255   Prob(JB):                        0.834\n",
      "Kurtosis:                       2.088   Cond. No.                         4.35\n",
      "==============================================================================\n",
      "\n",
      "Warnings:\n",
      "[1] Standard Errors assume that the covariance matrix of the errors is correctly specified.\n",
      "\n",
      "Residual_standard_error: 0.015736669003935746\n",
      "\n",
      "p_values: DiabetesType      0.664815\n",
      "DurationRange2    0.000560\n",
      "Name: P>|t|, dtype: float64\n"
     ]
    },
    {
     "name": "stderr",
     "output_type": "stream",
     "text": [
      "/Users/dongziming/anaconda3/lib/python3.7/site-packages/scipy/stats/stats.py:1535: UserWarning: kurtosistest only valid for n>=20 ... continuing anyway, n=8\n",
      "  \"anyway, n=%i\" % int(n))\n"
     ]
    }
   ],
   "source": [
    "# Select predictor and Y\n",
    "X = Data_LinReg2[['DiabetesType','DurationRange2']]\n",
    "Y = Data_LinReg2['ActualProbAdj']\n",
    "# with sklearn\n",
    "regr = linear_model.LinearRegression()\n",
    "regr.fit(X, Y)\n",
    "print('Intercept: \\n', regr.intercept_)\n",
    "print('Coefficients: \\n', regr.coef_)\n",
    "\n",
    "# with statsmodels\n",
    "model = sm.OLS(Y, X)\n",
    "results = model.fit()\n",
    "print(results.summary())\n",
    "Residual_standard_error=math.sqrt(results.mse_resid)\n",
    "print()\n",
    "print('Residual_standard_error:',Residual_standard_error)\n",
    "p_values = results.summary2().tables[1]['P>|t|']\n",
    "print()\n",
    "print('p_values:',p_values)"
   ]
  },
  {
   "cell_type": "markdown",
   "metadata": {},
   "source": [
    "## Data_LinReg2 Predictor Importance\n",
    "**In this case, DurationRange2 predictor is more significant than DiabetesType predictor.**"
   ]
  },
  {
   "cell_type": "code",
   "execution_count": 176,
   "metadata": {},
   "outputs": [
    {
     "name": "stdout",
     "output_type": "stream",
     "text": [
      "Feature: 0, Score: -0.00427\n",
      "Feature: 1, Score: 0.04461\n"
     ]
    }
   ],
   "source": [
    "importance=regr.coef_\n",
    "for i,v in enumerate(importance):\n",
    "    print('Feature: %0d, Score: %.5f' % (i,v))"
   ]
  },
  {
   "cell_type": "code",
   "execution_count": null,
   "metadata": {},
   "outputs": [],
   "source": []
  },
  {
   "cell_type": "markdown",
   "metadata": {},
   "source": [
    "## Q2 Perform Multiple Linear Regression on Data_LinReg7"
   ]
  },
  {
   "cell_type": "markdown",
   "metadata": {},
   "source": [
    "**The result shows:**\n",
    "* Residual standard error: 0.0833824729091391\n",
    "* Multiple R-squared: 0.756\n",
    "* Adjusted R-squared: 0.743\n",
    "* F-statistic: 55.00\n",
    "* p-values:\n",
    "*          DiabetesType      0.442163\n",
    "*          DN                0.000043\n",
    "*          CVD               0.000529\n",
    "*          DurationRange2    0.000092\n",
    "*          BMIBand2          0.225437\n",
    "*          HBP2              0.022208\n",
    "*          diabeticEye       0.616152"
   ]
  },
  {
   "cell_type": "code",
   "execution_count": 177,
   "metadata": {},
   "outputs": [
    {
     "data": {
      "text/html": [
       "<div>\n",
       "<style scoped>\n",
       "    .dataframe tbody tr th:only-of-type {\n",
       "        vertical-align: middle;\n",
       "    }\n",
       "\n",
       "    .dataframe tbody tr th {\n",
       "        vertical-align: top;\n",
       "    }\n",
       "\n",
       "    .dataframe thead th {\n",
       "        text-align: right;\n",
       "    }\n",
       "</style>\n",
       "<table border=\"1\" class=\"dataframe\">\n",
       "  <thead>\n",
       "    <tr style=\"text-align: right;\">\n",
       "      <th></th>\n",
       "      <th>DiabetesType</th>\n",
       "      <th>DN</th>\n",
       "      <th>CVD</th>\n",
       "      <th>DurationRange2</th>\n",
       "      <th>BMIBand2</th>\n",
       "      <th>HBP2</th>\n",
       "      <th>diabeticEye</th>\n",
       "      <th>ActualProbAdj</th>\n",
       "    </tr>\n",
       "  </thead>\n",
       "  <tbody>\n",
       "    <tr>\n",
       "      <th>0</th>\n",
       "      <td>0</td>\n",
       "      <td>0</td>\n",
       "      <td>0</td>\n",
       "      <td>0</td>\n",
       "      <td>0</td>\n",
       "      <td>0</td>\n",
       "      <td>0</td>\n",
       "      <td>0.000000</td>\n",
       "    </tr>\n",
       "    <tr>\n",
       "      <th>1</th>\n",
       "      <td>1</td>\n",
       "      <td>0</td>\n",
       "      <td>0</td>\n",
       "      <td>0</td>\n",
       "      <td>0</td>\n",
       "      <td>0</td>\n",
       "      <td>0</td>\n",
       "      <td>0.006329</td>\n",
       "    </tr>\n",
       "    <tr>\n",
       "      <th>2</th>\n",
       "      <td>2</td>\n",
       "      <td>0</td>\n",
       "      <td>0</td>\n",
       "      <td>1</td>\n",
       "      <td>0</td>\n",
       "      <td>0</td>\n",
       "      <td>0</td>\n",
       "      <td>0.011788</td>\n",
       "    </tr>\n",
       "    <tr>\n",
       "      <th>3</th>\n",
       "      <td>3</td>\n",
       "      <td>0</td>\n",
       "      <td>0</td>\n",
       "      <td>1</td>\n",
       "      <td>0</td>\n",
       "      <td>0</td>\n",
       "      <td>0</td>\n",
       "      <td>0.008163</td>\n",
       "    </tr>\n",
       "    <tr>\n",
       "      <th>4</th>\n",
       "      <td>2</td>\n",
       "      <td>1</td>\n",
       "      <td>0</td>\n",
       "      <td>1</td>\n",
       "      <td>0</td>\n",
       "      <td>0</td>\n",
       "      <td>0</td>\n",
       "      <td>0.000000</td>\n",
       "    </tr>\n",
       "    <tr>\n",
       "      <th>...</th>\n",
       "      <td>...</td>\n",
       "      <td>...</td>\n",
       "      <td>...</td>\n",
       "      <td>...</td>\n",
       "      <td>...</td>\n",
       "      <td>...</td>\n",
       "      <td>...</td>\n",
       "      <td>...</td>\n",
       "    </tr>\n",
       "    <tr>\n",
       "      <th>187</th>\n",
       "      <td>3</td>\n",
       "      <td>0</td>\n",
       "      <td>1</td>\n",
       "      <td>3</td>\n",
       "      <td>2</td>\n",
       "      <td>1</td>\n",
       "      <td>0</td>\n",
       "      <td>NaN</td>\n",
       "    </tr>\n",
       "    <tr>\n",
       "      <th>188</th>\n",
       "      <td>0</td>\n",
       "      <td>1</td>\n",
       "      <td>1</td>\n",
       "      <td>3</td>\n",
       "      <td>2</td>\n",
       "      <td>0</td>\n",
       "      <td>0</td>\n",
       "      <td>NaN</td>\n",
       "    </tr>\n",
       "    <tr>\n",
       "      <th>189</th>\n",
       "      <td>1</td>\n",
       "      <td>1</td>\n",
       "      <td>1</td>\n",
       "      <td>3</td>\n",
       "      <td>2</td>\n",
       "      <td>0</td>\n",
       "      <td>0</td>\n",
       "      <td>NaN</td>\n",
       "    </tr>\n",
       "    <tr>\n",
       "      <th>190</th>\n",
       "      <td>2</td>\n",
       "      <td>1</td>\n",
       "      <td>1</td>\n",
       "      <td>3</td>\n",
       "      <td>2</td>\n",
       "      <td>10</td>\n",
       "      <td>2</td>\n",
       "      <td>NaN</td>\n",
       "    </tr>\n",
       "    <tr>\n",
       "      <th>191</th>\n",
       "      <td>3</td>\n",
       "      <td>1</td>\n",
       "      <td>1</td>\n",
       "      <td>3</td>\n",
       "      <td>2</td>\n",
       "      <td>6</td>\n",
       "      <td>0</td>\n",
       "      <td>NaN</td>\n",
       "    </tr>\n",
       "  </tbody>\n",
       "</table>\n",
       "<p>192 rows × 8 columns</p>\n",
       "</div>"
      ],
      "text/plain": [
       "     DiabetesType  DN  CVD  DurationRange2  BMIBand2  HBP2  diabeticEye  \\\n",
       "0               0   0    0               0         0     0            0   \n",
       "1               1   0    0               0         0     0            0   \n",
       "2               2   0    0               1         0     0            0   \n",
       "3               3   0    0               1         0     0            0   \n",
       "4               2   1    0               1         0     0            0   \n",
       "..            ...  ..  ...             ...       ...   ...          ...   \n",
       "187             3   0    1               3         2     1            0   \n",
       "188             0   1    1               3         2     0            0   \n",
       "189             1   1    1               3         2     0            0   \n",
       "190             2   1    1               3         2    10            2   \n",
       "191             3   1    1               3         2     6            0   \n",
       "\n",
       "     ActualProbAdj  \n",
       "0         0.000000  \n",
       "1         0.006329  \n",
       "2         0.011788  \n",
       "3         0.008163  \n",
       "4         0.000000  \n",
       "..             ...  \n",
       "187            NaN  \n",
       "188            NaN  \n",
       "189            NaN  \n",
       "190            NaN  \n",
       "191            NaN  \n",
       "\n",
       "[192 rows x 8 columns]"
      ]
     },
     "execution_count": 177,
     "metadata": {},
     "output_type": "execute_result"
    }
   ],
   "source": [
    "Data_LinReg7"
   ]
  },
  {
   "cell_type": "code",
   "execution_count": 178,
   "metadata": {},
   "outputs": [
    {
     "data": {
      "text/plain": [
       "True"
      ]
     },
     "execution_count": 178,
     "metadata": {},
     "output_type": "execute_result"
    }
   ],
   "source": [
    "# Check if Nan values in dataset\n",
    "Data_LinReg7.isnull().values.any()"
   ]
  },
  {
   "cell_type": "code",
   "execution_count": 179,
   "metadata": {},
   "outputs": [],
   "source": [
    "# Becasue NaN values in the ActualProbAdjm, so need to drop Nan Value\n",
    "clean_Data_LinReg7 = Data_LinReg7.dropna()"
   ]
  },
  {
   "cell_type": "code",
   "execution_count": 180,
   "metadata": {},
   "outputs": [
    {
     "data": {
      "text/plain": [
       "False"
      ]
     },
     "execution_count": 180,
     "metadata": {},
     "output_type": "execute_result"
    }
   ],
   "source": [
    "# Check it again.\n",
    "clean_Data_LinReg7.isnull().values.any()"
   ]
  },
  {
   "cell_type": "code",
   "execution_count": 181,
   "metadata": {},
   "outputs": [
    {
     "name": "stdout",
     "output_type": "stream",
     "text": [
      "Intercept: \n",
      " -0.01555834919371285\n",
      "Coefficients: \n",
      " [-0.00317725  0.06855465  0.06568885  0.04181919  0.01289233  0.03577726\n",
      "  0.00883886]\n",
      "                                 OLS Regression Results                                \n",
      "=======================================================================================\n",
      "Dep. Variable:          ActualProbAdj   R-squared (uncentered):                   0.756\n",
      "Model:                            OLS   Adj. R-squared (uncentered):              0.743\n",
      "Method:                 Least Squares   F-statistic:                              55.00\n",
      "Date:                Sat, 28 Nov 2020   Prob (F-statistic):                    4.65e-35\n",
      "Time:                        01:21:49   Log-Likelihood:                          143.16\n",
      "No. Observations:                 131   AIC:                                     -272.3\n",
      "Df Residuals:                     124   BIC:                                     -252.2\n",
      "Df Model:                           7                                                  \n",
      "Covariance Type:            nonrobust                                                  \n",
      "==================================================================================\n",
      "                     coef    std err          t      P>|t|      [0.025      0.975]\n",
      "----------------------------------------------------------------------------------\n",
      "DiabetesType      -0.0074      0.010     -0.771      0.442      -0.026       0.012\n",
      "DN                 0.0678      0.016      4.240      0.000       0.036       0.099\n",
      "CVD                0.0650      0.018      3.559      0.001       0.029       0.101\n",
      "DurationRange2     0.0410      0.010      4.043      0.000       0.021       0.061\n",
      "BMIBand2           0.0106      0.009      1.218      0.225      -0.007       0.028\n",
      "HBP2               0.0337      0.015      2.316      0.022       0.005       0.063\n",
      "diabeticEye        0.0077      0.015      0.503      0.616      -0.023       0.038\n",
      "==============================================================================\n",
      "Omnibus:                       17.275   Durbin-Watson:                   1.940\n",
      "Prob(Omnibus):                  0.000   Jarque-Bera (JB):               19.914\n",
      "Skew:                           0.845   Prob(JB):                     4.74e-05\n",
      "Kurtosis:                       3.890   Cond. No.                         8.51\n",
      "==============================================================================\n",
      "\n",
      "Warnings:\n",
      "[1] Standard Errors assume that the covariance matrix of the errors is correctly specified.\n",
      "\n",
      "Residual_standard_error: 0.0833824729091391\n",
      "\n",
      "p_values: DiabetesType      0.442163\n",
      "DN                0.000043\n",
      "CVD               0.000529\n",
      "DurationRange2    0.000092\n",
      "BMIBand2          0.225437\n",
      "HBP2              0.022208\n",
      "diabeticEye       0.616152\n",
      "Name: P>|t|, dtype: float64\n"
     ]
    }
   ],
   "source": [
    "# Select predictor and Y\n",
    "X = clean_Data_LinReg7.iloc[:,0:7]\n",
    "Y = clean_Data_LinReg7['ActualProbAdj']\n",
    "# with sklearn\n",
    "regr = linear_model.LinearRegression()\n",
    "regr.fit(X, Y)\n",
    "print('Intercept: \\n', regr.intercept_)\n",
    "print('Coefficients: \\n', regr.coef_)\n",
    "\n",
    "# with statsmodels\n",
    "model = sm.OLS(Y, X)\n",
    "results = model.fit()\n",
    "print(results.summary())\n",
    "Residual_standard_error=math.sqrt(results.mse_resid)\n",
    "print()\n",
    "print('Residual_standard_error:',Residual_standard_error)\n",
    "p_values = results.summary2().tables[1]['P>|t|']\n",
    "print()\n",
    "print('p_values:',p_values)"
   ]
  },
  {
   "cell_type": "markdown",
   "metadata": {},
   "source": [
    "## Data_LinReg7 Predictor Importance\n",
    "**Based on the featrue score, the DiabetesType and diabeticEye predictors are not significant than other predictors."
   ]
  },
  {
   "cell_type": "code",
   "execution_count": 182,
   "metadata": {},
   "outputs": [
    {
     "name": "stdout",
     "output_type": "stream",
     "text": [
      "Feature: 0, Score: -0.00318\n",
      "Feature: 1, Score: 0.06855\n",
      "Feature: 2, Score: 0.06569\n",
      "Feature: 3, Score: 0.04182\n",
      "Feature: 4, Score: 0.01289\n",
      "Feature: 5, Score: 0.03578\n",
      "Feature: 6, Score: 0.00884\n"
     ]
    }
   ],
   "source": [
    "importance=regr.coef_\n",
    "for i,v in enumerate(importance):\n",
    "    print('Feature: %0d, Score: %.5f' % (i,v))"
   ]
  },
  {
   "cell_type": "markdown",
   "metadata": {},
   "source": [
    "## Q3 Compare Result obtained in Q1 and Q2, and comment which model is better and explain why, you may use key statistics to support your reason"
   ]
  },
  {
   "cell_type": "code",
   "execution_count": 183,
   "metadata": {},
   "outputs": [],
   "source": [
    "# clear up key statistics\n",
    "LinReg2_key = {'Key Statistics': ['Residual standard error','Multiple R-squared','Adjusted R-squared',' F-statistic'],\n",
    "        'value': [0.015736669003935746,0.971,0.961,99.20]\n",
    "        }\n",
    "LinReg2 = pd.DataFrame(LinReg2_key, columns = ['Key Statistics', 'value'])\n",
    "LinReg7_key = {'Key Statistics': ['Residual standard error','Multiple R-squared','Adjusted R-squared',' F-statistic'],\n",
    "        'value': [0.0833824729091391,0.756,0.743,55.00]\n",
    "        }\n",
    "LinReg7=pd.DataFrame(LinReg7_key, columns = ['Key Statistics', 'value'])"
   ]
  },
  {
   "cell_type": "code",
   "execution_count": 184,
   "metadata": {},
   "outputs": [
    {
     "data": {
      "text/html": [
       "<div>\n",
       "<style scoped>\n",
       "    .dataframe tbody tr th:only-of-type {\n",
       "        vertical-align: middle;\n",
       "    }\n",
       "\n",
       "    .dataframe tbody tr th {\n",
       "        vertical-align: top;\n",
       "    }\n",
       "\n",
       "    .dataframe thead th {\n",
       "        text-align: right;\n",
       "    }\n",
       "</style>\n",
       "<table border=\"1\" class=\"dataframe\">\n",
       "  <thead>\n",
       "    <tr style=\"text-align: right;\">\n",
       "      <th></th>\n",
       "      <th>Key Statistics</th>\n",
       "      <th>value</th>\n",
       "    </tr>\n",
       "  </thead>\n",
       "  <tbody>\n",
       "    <tr>\n",
       "      <th>0</th>\n",
       "      <td>Residual standard error</td>\n",
       "      <td>0.015737</td>\n",
       "    </tr>\n",
       "    <tr>\n",
       "      <th>1</th>\n",
       "      <td>Multiple R-squared</td>\n",
       "      <td>0.971000</td>\n",
       "    </tr>\n",
       "    <tr>\n",
       "      <th>2</th>\n",
       "      <td>Adjusted R-squared</td>\n",
       "      <td>0.961000</td>\n",
       "    </tr>\n",
       "    <tr>\n",
       "      <th>3</th>\n",
       "      <td>F-statistic</td>\n",
       "      <td>99.200000</td>\n",
       "    </tr>\n",
       "  </tbody>\n",
       "</table>\n",
       "</div>"
      ],
      "text/plain": [
       "            Key Statistics      value\n",
       "0  Residual standard error   0.015737\n",
       "1       Multiple R-squared   0.971000\n",
       "2       Adjusted R-squared   0.961000\n",
       "3              F-statistic  99.200000"
      ]
     },
     "execution_count": 184,
     "metadata": {},
     "output_type": "execute_result"
    }
   ],
   "source": [
    "LinReg2"
   ]
  },
  {
   "cell_type": "code",
   "execution_count": 185,
   "metadata": {},
   "outputs": [
    {
     "data": {
      "text/html": [
       "<div>\n",
       "<style scoped>\n",
       "    .dataframe tbody tr th:only-of-type {\n",
       "        vertical-align: middle;\n",
       "    }\n",
       "\n",
       "    .dataframe tbody tr th {\n",
       "        vertical-align: top;\n",
       "    }\n",
       "\n",
       "    .dataframe thead th {\n",
       "        text-align: right;\n",
       "    }\n",
       "</style>\n",
       "<table border=\"1\" class=\"dataframe\">\n",
       "  <thead>\n",
       "    <tr style=\"text-align: right;\">\n",
       "      <th></th>\n",
       "      <th>Key Statistics</th>\n",
       "      <th>value</th>\n",
       "    </tr>\n",
       "  </thead>\n",
       "  <tbody>\n",
       "    <tr>\n",
       "      <th>0</th>\n",
       "      <td>Residual standard error</td>\n",
       "      <td>0.083382</td>\n",
       "    </tr>\n",
       "    <tr>\n",
       "      <th>1</th>\n",
       "      <td>Multiple R-squared</td>\n",
       "      <td>0.756000</td>\n",
       "    </tr>\n",
       "    <tr>\n",
       "      <th>2</th>\n",
       "      <td>Adjusted R-squared</td>\n",
       "      <td>0.743000</td>\n",
       "    </tr>\n",
       "    <tr>\n",
       "      <th>3</th>\n",
       "      <td>F-statistic</td>\n",
       "      <td>55.000000</td>\n",
       "    </tr>\n",
       "  </tbody>\n",
       "</table>\n",
       "</div>"
      ],
      "text/plain": [
       "            Key Statistics      value\n",
       "0  Residual standard error   0.083382\n",
       "1       Multiple R-squared   0.756000\n",
       "2       Adjusted R-squared   0.743000\n",
       "3              F-statistic  55.000000"
      ]
     },
     "execution_count": 185,
     "metadata": {},
     "output_type": "execute_result"
    }
   ],
   "source": [
    "LinReg7"
   ]
  },
  {
   "cell_type": "markdown",
   "metadata": {},
   "source": [
    "* According to the key statistics we get, the LinReg2 model has lower Residual standard error, and higher R-squared than LinReg7, we may conclude that LinReg2 model is better. \n",
    "* However, the LinReg2 model is too simple to cause underfitting problems, LinReg2 only has two attributes which is not enough to predict the testing dataset in the future. \n",
    "* Even the LinReg7 get lower R-squared and higher RSE, this model may predict higher accuracy on the unseen testing dataset."
   ]
  },
  {
   "cell_type": "markdown",
   "metadata": {},
   "source": [
    "## Q4 Create a regression model using Data. \n",
    "* The model should be better than those obtain in Q1 and Q2. \n",
    "* Please outline your rationale in creating a new model, model is not restricted to Linear Regression, e.g. exponential, logistic regression could also be viable.\n",
    "* Model is not restricted to Linear Regression, e.g. exponential, logistic regression could also be viable"
   ]
  },
  {
   "cell_type": "code",
   "execution_count": 186,
   "metadata": {},
   "outputs": [
    {
     "data": {
      "text/html": [
       "<div>\n",
       "<style scoped>\n",
       "    .dataframe tbody tr th:only-of-type {\n",
       "        vertical-align: middle;\n",
       "    }\n",
       "\n",
       "    .dataframe tbody tr th {\n",
       "        vertical-align: top;\n",
       "    }\n",
       "\n",
       "    .dataframe thead th {\n",
       "        text-align: right;\n",
       "    }\n",
       "</style>\n",
       "<table border=\"1\" class=\"dataframe\">\n",
       "  <thead>\n",
       "    <tr style=\"text-align: right;\">\n",
       "      <th></th>\n",
       "      <th>AgeBand2</th>\n",
       "      <th>Gender</th>\n",
       "      <th>SmokerStatus2</th>\n",
       "      <th>DurationRange2</th>\n",
       "      <th>BMIBand2</th>\n",
       "      <th>RelatedMedHistory</th>\n",
       "      <th>DiabetesType</th>\n",
       "      <th>Diabetes</th>\n",
       "      <th>HBP2</th>\n",
       "      <th>hyperlipidemia</th>\n",
       "      <th>hyperluricemia</th>\n",
       "      <th>CVD</th>\n",
       "      <th>diabeticEye</th>\n",
       "      <th>diabeticFoot</th>\n",
       "      <th>DN</th>\n",
       "      <th>FamilyHistory</th>\n",
       "      <th>Actual</th>\n",
       "    </tr>\n",
       "  </thead>\n",
       "  <tbody>\n",
       "    <tr>\n",
       "      <th>0</th>\n",
       "      <td>2</td>\n",
       "      <td>0</td>\n",
       "      <td>0</td>\n",
       "      <td>3</td>\n",
       "      <td>0</td>\n",
       "      <td>0</td>\n",
       "      <td>2</td>\n",
       "      <td>1</td>\n",
       "      <td>0</td>\n",
       "      <td>0</td>\n",
       "      <td>0</td>\n",
       "      <td>0</td>\n",
       "      <td>0</td>\n",
       "      <td>0</td>\n",
       "      <td>0</td>\n",
       "      <td>1</td>\n",
       "      <td>0</td>\n",
       "    </tr>\n",
       "    <tr>\n",
       "      <th>1</th>\n",
       "      <td>2</td>\n",
       "      <td>1</td>\n",
       "      <td>1</td>\n",
       "      <td>1</td>\n",
       "      <td>1</td>\n",
       "      <td>0</td>\n",
       "      <td>3</td>\n",
       "      <td>1</td>\n",
       "      <td>0</td>\n",
       "      <td>0</td>\n",
       "      <td>0</td>\n",
       "      <td>0</td>\n",
       "      <td>0</td>\n",
       "      <td>0</td>\n",
       "      <td>0</td>\n",
       "      <td>1</td>\n",
       "      <td>0</td>\n",
       "    </tr>\n",
       "    <tr>\n",
       "      <th>2</th>\n",
       "      <td>3</td>\n",
       "      <td>1</td>\n",
       "      <td>0</td>\n",
       "      <td>3</td>\n",
       "      <td>0</td>\n",
       "      <td>2</td>\n",
       "      <td>2</td>\n",
       "      <td>1</td>\n",
       "      <td>0</td>\n",
       "      <td>0</td>\n",
       "      <td>0</td>\n",
       "      <td>0</td>\n",
       "      <td>0</td>\n",
       "      <td>1</td>\n",
       "      <td>0</td>\n",
       "      <td>0</td>\n",
       "      <td>0</td>\n",
       "    </tr>\n",
       "    <tr>\n",
       "      <th>3</th>\n",
       "      <td>2</td>\n",
       "      <td>0</td>\n",
       "      <td>0</td>\n",
       "      <td>1</td>\n",
       "      <td>2</td>\n",
       "      <td>1</td>\n",
       "      <td>2</td>\n",
       "      <td>1</td>\n",
       "      <td>0</td>\n",
       "      <td>0</td>\n",
       "      <td>0</td>\n",
       "      <td>0</td>\n",
       "      <td>0</td>\n",
       "      <td>0</td>\n",
       "      <td>0</td>\n",
       "      <td>0</td>\n",
       "      <td>0</td>\n",
       "    </tr>\n",
       "    <tr>\n",
       "      <th>4</th>\n",
       "      <td>2</td>\n",
       "      <td>1</td>\n",
       "      <td>0</td>\n",
       "      <td>1</td>\n",
       "      <td>1</td>\n",
       "      <td>0</td>\n",
       "      <td>2</td>\n",
       "      <td>1</td>\n",
       "      <td>0</td>\n",
       "      <td>0</td>\n",
       "      <td>0</td>\n",
       "      <td>0</td>\n",
       "      <td>0</td>\n",
       "      <td>0</td>\n",
       "      <td>0</td>\n",
       "      <td>1</td>\n",
       "      <td>0</td>\n",
       "    </tr>\n",
       "    <tr>\n",
       "      <th>...</th>\n",
       "      <td>...</td>\n",
       "      <td>...</td>\n",
       "      <td>...</td>\n",
       "      <td>...</td>\n",
       "      <td>...</td>\n",
       "      <td>...</td>\n",
       "      <td>...</td>\n",
       "      <td>...</td>\n",
       "      <td>...</td>\n",
       "      <td>...</td>\n",
       "      <td>...</td>\n",
       "      <td>...</td>\n",
       "      <td>...</td>\n",
       "      <td>...</td>\n",
       "      <td>...</td>\n",
       "      <td>...</td>\n",
       "      <td>...</td>\n",
       "    </tr>\n",
       "    <tr>\n",
       "      <th>9679</th>\n",
       "      <td>1</td>\n",
       "      <td>1</td>\n",
       "      <td>1</td>\n",
       "      <td>1</td>\n",
       "      <td>0</td>\n",
       "      <td>0</td>\n",
       "      <td>3</td>\n",
       "      <td>1</td>\n",
       "      <td>1</td>\n",
       "      <td>1</td>\n",
       "      <td>0</td>\n",
       "      <td>0</td>\n",
       "      <td>0</td>\n",
       "      <td>0</td>\n",
       "      <td>0</td>\n",
       "      <td>0</td>\n",
       "      <td>0</td>\n",
       "    </tr>\n",
       "    <tr>\n",
       "      <th>9680</th>\n",
       "      <td>1</td>\n",
       "      <td>0</td>\n",
       "      <td>0</td>\n",
       "      <td>2</td>\n",
       "      <td>1</td>\n",
       "      <td>0</td>\n",
       "      <td>2</td>\n",
       "      <td>1</td>\n",
       "      <td>0</td>\n",
       "      <td>0</td>\n",
       "      <td>0</td>\n",
       "      <td>0</td>\n",
       "      <td>0</td>\n",
       "      <td>0</td>\n",
       "      <td>0</td>\n",
       "      <td>0</td>\n",
       "      <td>0</td>\n",
       "    </tr>\n",
       "    <tr>\n",
       "      <th>9681</th>\n",
       "      <td>2</td>\n",
       "      <td>1</td>\n",
       "      <td>0</td>\n",
       "      <td>2</td>\n",
       "      <td>1</td>\n",
       "      <td>2</td>\n",
       "      <td>2</td>\n",
       "      <td>1</td>\n",
       "      <td>0</td>\n",
       "      <td>0</td>\n",
       "      <td>0</td>\n",
       "      <td>0</td>\n",
       "      <td>0</td>\n",
       "      <td>0</td>\n",
       "      <td>1</td>\n",
       "      <td>0</td>\n",
       "      <td>1</td>\n",
       "    </tr>\n",
       "    <tr>\n",
       "      <th>9682</th>\n",
       "      <td>3</td>\n",
       "      <td>1</td>\n",
       "      <td>1</td>\n",
       "      <td>1</td>\n",
       "      <td>2</td>\n",
       "      <td>0</td>\n",
       "      <td>2</td>\n",
       "      <td>1</td>\n",
       "      <td>0</td>\n",
       "      <td>0</td>\n",
       "      <td>0</td>\n",
       "      <td>0</td>\n",
       "      <td>0</td>\n",
       "      <td>0</td>\n",
       "      <td>0</td>\n",
       "      <td>0</td>\n",
       "      <td>0</td>\n",
       "    </tr>\n",
       "    <tr>\n",
       "      <th>9683</th>\n",
       "      <td>2</td>\n",
       "      <td>1</td>\n",
       "      <td>1</td>\n",
       "      <td>1</td>\n",
       "      <td>2</td>\n",
       "      <td>0</td>\n",
       "      <td>2</td>\n",
       "      <td>1</td>\n",
       "      <td>0</td>\n",
       "      <td>0</td>\n",
       "      <td>0</td>\n",
       "      <td>0</td>\n",
       "      <td>0</td>\n",
       "      <td>0</td>\n",
       "      <td>0</td>\n",
       "      <td>0</td>\n",
       "      <td>1</td>\n",
       "    </tr>\n",
       "  </tbody>\n",
       "</table>\n",
       "<p>9684 rows × 17 columns</p>\n",
       "</div>"
      ],
      "text/plain": [
       "      AgeBand2  Gender  SmokerStatus2  DurationRange2  BMIBand2  \\\n",
       "0            2       0              0               3         0   \n",
       "1            2       1              1               1         1   \n",
       "2            3       1              0               3         0   \n",
       "3            2       0              0               1         2   \n",
       "4            2       1              0               1         1   \n",
       "...        ...     ...            ...             ...       ...   \n",
       "9679         1       1              1               1         0   \n",
       "9680         1       0              0               2         1   \n",
       "9681         2       1              0               2         1   \n",
       "9682         3       1              1               1         2   \n",
       "9683         2       1              1               1         2   \n",
       "\n",
       "      RelatedMedHistory  DiabetesType  Diabetes  HBP2  hyperlipidemia  \\\n",
       "0                     0             2         1     0               0   \n",
       "1                     0             3         1     0               0   \n",
       "2                     2             2         1     0               0   \n",
       "3                     1             2         1     0               0   \n",
       "4                     0             2         1     0               0   \n",
       "...                 ...           ...       ...   ...             ...   \n",
       "9679                  0             3         1     1               1   \n",
       "9680                  0             2         1     0               0   \n",
       "9681                  2             2         1     0               0   \n",
       "9682                  0             2         1     0               0   \n",
       "9683                  0             2         1     0               0   \n",
       "\n",
       "      hyperluricemia  CVD  diabeticEye  diabeticFoot  DN  FamilyHistory  \\\n",
       "0                  0    0            0             0   0              1   \n",
       "1                  0    0            0             0   0              1   \n",
       "2                  0    0            0             1   0              0   \n",
       "3                  0    0            0             0   0              0   \n",
       "4                  0    0            0             0   0              1   \n",
       "...              ...  ...          ...           ...  ..            ...   \n",
       "9679               0    0            0             0   0              0   \n",
       "9680               0    0            0             0   0              0   \n",
       "9681               0    0            0             0   1              0   \n",
       "9682               0    0            0             0   0              0   \n",
       "9683               0    0            0             0   0              0   \n",
       "\n",
       "      Actual  \n",
       "0          0  \n",
       "1          0  \n",
       "2          0  \n",
       "3          0  \n",
       "4          0  \n",
       "...      ...  \n",
       "9679       0  \n",
       "9680       0  \n",
       "9681       1  \n",
       "9682       0  \n",
       "9683       1  \n",
       "\n",
       "[9684 rows x 17 columns]"
      ]
     },
     "execution_count": 186,
     "metadata": {},
     "output_type": "execute_result"
    }
   ],
   "source": [
    "Data"
   ]
  },
  {
   "cell_type": "code",
   "execution_count": 187,
   "metadata": {},
   "outputs": [
    {
     "data": {
      "text/plain": [
       "False"
      ]
     },
     "execution_count": 187,
     "metadata": {},
     "output_type": "execute_result"
    }
   ],
   "source": [
    "# Check if any Nan value\n",
    "Data.isnull().values.any()"
   ]
  },
  {
   "cell_type": "markdown",
   "metadata": {},
   "source": [
    "### Apply best k feature selection method"
   ]
  },
  {
   "cell_type": "code",
   "execution_count": 188,
   "metadata": {},
   "outputs": [],
   "source": [
    "# SelectKBest feature k=10\n",
    "X=np.array(Data.iloc[:,0:-1])\n",
    "Y=np.array(Data['Actual'])\n",
    "X_new=SelectKBest(k=10).fit_transform(X,Y)"
   ]
  },
  {
   "cell_type": "code",
   "execution_count": 189,
   "metadata": {},
   "outputs": [
    {
     "data": {
      "text/plain": [
       "(9684, 10)"
      ]
     },
     "execution_count": 189,
     "metadata": {},
     "output_type": "execute_result"
    }
   ],
   "source": [
    "X_new.shape"
   ]
  },
  {
   "cell_type": "markdown",
   "metadata": {},
   "source": [
    "### Apply PCA to do feature dimension reduction"
   ]
  },
  {
   "cell_type": "code",
   "execution_count": 190,
   "metadata": {},
   "outputs": [
    {
     "data": {
      "text/plain": [
       "array([[ 0.91427407, -0.62020802, -0.76106059, ...,  0.11113877,\n",
       "         0.01252074,  0.12422847],\n",
       "       [ 0.16071604, -0.86112691, -0.63474362, ...,  0.01664052,\n",
       "         0.00449285,  0.21032587],\n",
       "       [ 2.09450864,  1.06457814, -0.34652818, ..., -0.05575481,\n",
       "        -0.19946419,  0.08756858],\n",
       "       ...,\n",
       "       [ 1.28597972,  0.63605849,  0.55976975, ...,  0.01489074,\n",
       "        -0.14744418, -0.08337505],\n",
       "       [-0.15903603,  0.22415277, -1.28923331, ...,  0.05442399,\n",
       "         0.00560028, -0.09473556],\n",
       "       [-0.34068217, -0.33986754, -0.51641501, ...,  0.06831865,\n",
       "         0.02168162, -0.11990096]])"
      ]
     },
     "execution_count": 190,
     "metadata": {},
     "output_type": "execute_result"
    }
   ],
   "source": [
    "# Becasue there are some 1,0 features, so we dont standardize data.\n",
    "pca=PCA(n_components=10)\n",
    "pca.fit_transform(X_new)"
   ]
  },
  {
   "cell_type": "code",
   "execution_count": 191,
   "metadata": {},
   "outputs": [
    {
     "name": "stdout",
     "output_type": "stream",
     "text": [
      "[0.42989638 0.19408543 0.18867788 0.06558565 0.06045372 0.01881781\n",
      " 0.01423245 0.01113684 0.00965062 0.00746322]\n"
     ]
    }
   ],
   "source": [
    "# See the first principle component ratio and select the good index of feature out of 10.\n",
    "print(pca.explained_variance_ratio_)"
   ]
  },
  {
   "cell_type": "code",
   "execution_count": 192,
   "metadata": {},
   "outputs": [
    {
     "data": {
      "text/plain": [
       "array([0.18164614, 0.62747812, 0.47144523, 0.50139821, 0.25572956,\n",
       "       0.06286579, 0.03889503, 0.14993793, 0.05569798, 0.05629331])"
      ]
     },
     "execution_count": 192,
     "metadata": {},
     "output_type": "execute_result"
    }
   ],
   "source": [
    "values=abs(pca.components_)\n",
    "values[0]"
   ]
  },
  {
   "cell_type": "markdown",
   "metadata": {},
   "source": [
    "* Based on the features values in first principle component, we select higher values feature by indexes.\n",
    "* We will remove the 6th, 7th, 9th and 10th feature."
   ]
  },
  {
   "cell_type": "code",
   "execution_count": 193,
   "metadata": {},
   "outputs": [
    {
     "data": {
      "text/plain": [
       "array([[2, 3, 0, ..., 0, 0, 0],\n",
       "       [2, 1, 0, ..., 0, 0, 0],\n",
       "       [3, 3, 2, ..., 0, 1, 0],\n",
       "       ...,\n",
       "       [2, 2, 2, ..., 0, 0, 1],\n",
       "       [3, 1, 0, ..., 0, 0, 0],\n",
       "       [2, 1, 0, ..., 0, 0, 0]])"
      ]
     },
     "execution_count": 193,
     "metadata": {},
     "output_type": "execute_result"
    }
   ],
   "source": [
    "X_new"
   ]
  },
  {
   "cell_type": "code",
   "execution_count": 194,
   "metadata": {},
   "outputs": [],
   "source": [
    "final_x = np.delete(X_new, [5,6,8,9], axis=1)"
   ]
  },
  {
   "cell_type": "code",
   "execution_count": 195,
   "metadata": {},
   "outputs": [
    {
     "data": {
      "text/plain": [
       "(9684, 6)"
      ]
     },
     "execution_count": 195,
     "metadata": {},
     "output_type": "execute_result"
    }
   ],
   "source": [
    "final_x.shape"
   ]
  },
  {
   "cell_type": "code",
   "execution_count": 196,
   "metadata": {},
   "outputs": [
    {
     "data": {
      "text/plain": [
       "(9684,)"
      ]
     },
     "execution_count": 196,
     "metadata": {},
     "output_type": "execute_result"
    }
   ],
   "source": [
    "Y.shape"
   ]
  },
  {
   "cell_type": "markdown",
   "metadata": {},
   "source": [
    "### Build the SVM Regression Model"
   ]
  },
  {
   "cell_type": "code",
   "execution_count": 197,
   "metadata": {},
   "outputs": [],
   "source": [
    "feature=final_x\n",
    "label=Y"
   ]
  },
  {
   "cell_type": "code",
   "execution_count": 198,
   "metadata": {},
   "outputs": [],
   "source": [
    "classfy = svm.SVC(kernel='linear',gamma='scale',degree=3,C=10).fit(feature, label)"
   ]
  },
  {
   "cell_type": "code",
   "execution_count": 199,
   "metadata": {},
   "outputs": [
    {
     "name": "stdout",
     "output_type": "stream",
     "text": [
      "Accuracy for each iteration:\n",
      "0.9432111512648426\n",
      "              precision    recall  f1-score   support\n",
      "\n",
      "           0       0.94      1.00      0.97      1827\n",
      "           1       0.00      0.00      0.00       110\n",
      "\n",
      "    accuracy                           0.94      1937\n",
      "   macro avg       0.47      0.50      0.49      1937\n",
      "weighted avg       0.89      0.94      0.92      1937\n",
      "\n",
      "Accuracy for each iteration:\n"
     ]
    },
    {
     "name": "stderr",
     "output_type": "stream",
     "text": [
      "/Users/dongziming/anaconda3/lib/python3.7/site-packages/sklearn/metrics/classification.py:1437: UndefinedMetricWarning: Precision and F-score are ill-defined and being set to 0.0 in labels with no predicted samples.\n",
      "  'precision', 'predicted', average, warn_for)\n"
     ]
    },
    {
     "name": "stdout",
     "output_type": "stream",
     "text": [
      "0.9535363964894166\n",
      "              precision    recall  f1-score   support\n",
      "\n",
      "           0       0.95      1.00      0.98      1847\n",
      "           1       0.00      0.00      0.00        90\n",
      "\n",
      "    accuracy                           0.95      1937\n",
      "   macro avg       0.48      0.50      0.49      1937\n",
      "weighted avg       0.91      0.95      0.93      1937\n",
      "\n",
      "Accuracy for each iteration:\n",
      "0.9638616417139907\n"
     ]
    },
    {
     "name": "stderr",
     "output_type": "stream",
     "text": [
      "/Users/dongziming/anaconda3/lib/python3.7/site-packages/sklearn/metrics/classification.py:1437: UndefinedMetricWarning: Precision and F-score are ill-defined and being set to 0.0 in labels with no predicted samples.\n",
      "  'precision', 'predicted', average, warn_for)\n",
      "/Users/dongziming/anaconda3/lib/python3.7/site-packages/sklearn/metrics/classification.py:1437: UndefinedMetricWarning: Precision and F-score are ill-defined and being set to 0.0 in labels with no predicted samples.\n",
      "  'precision', 'predicted', average, warn_for)\n"
     ]
    },
    {
     "name": "stdout",
     "output_type": "stream",
     "text": [
      "              precision    recall  f1-score   support\n",
      "\n",
      "           0       0.96      1.00      0.98      1867\n",
      "           1       0.00      0.00      0.00        70\n",
      "\n",
      "    accuracy                           0.96      1937\n",
      "   macro avg       0.48      0.50      0.49      1937\n",
      "weighted avg       0.93      0.96      0.95      1937\n",
      "\n",
      "Accuracy for each iteration:\n",
      "0.9437274135260713\n",
      "              precision    recall  f1-score   support\n",
      "\n",
      "           0       0.94      1.00      0.97      1828\n",
      "           1       0.00      0.00      0.00       109\n",
      "\n",
      "    accuracy                           0.94      1937\n",
      "   macro avg       0.47      0.50      0.49      1937\n",
      "weighted avg       0.89      0.94      0.92      1937\n",
      "\n",
      "Accuracy for each iteration:\n"
     ]
    },
    {
     "name": "stderr",
     "output_type": "stream",
     "text": [
      "/Users/dongziming/anaconda3/lib/python3.7/site-packages/sklearn/metrics/classification.py:1437: UndefinedMetricWarning: Precision and F-score are ill-defined and being set to 0.0 in labels with no predicted samples.\n",
      "  'precision', 'predicted', average, warn_for)\n"
     ]
    },
    {
     "name": "stdout",
     "output_type": "stream",
     "text": [
      "0.9426652892561983\n",
      "              precision    recall  f1-score   support\n",
      "\n",
      "           0       0.94      1.00      0.97      1825\n",
      "           1       0.00      0.00      0.00       111\n",
      "\n",
      "    accuracy                           0.94      1936\n",
      "   macro avg       0.47      0.50      0.49      1936\n",
      "weighted avg       0.89      0.94      0.91      1936\n",
      "\n"
     ]
    },
    {
     "name": "stderr",
     "output_type": "stream",
     "text": [
      "/Users/dongziming/anaconda3/lib/python3.7/site-packages/sklearn/metrics/classification.py:1437: UndefinedMetricWarning: Precision and F-score are ill-defined and being set to 0.0 in labels with no predicted samples.\n",
      "  'precision', 'predicted', average, warn_for)\n"
     ]
    }
   ],
   "source": [
    "#Use k fold cross validation on the training data to evaluate your recognition system\n",
    "KFsplit=KFold(n_splits=5)\n",
    "KFsplit.get_n_splits(feature)\n",
    "for train_index,test_index in KFsplit.split(feature):\n",
    "    X_train, X_test = feature[train_index], feature[test_index]\n",
    "    y_train, y_test = label[train_index], label[test_index]\n",
    "    classfy = svm.SVC(kernel='linear',gamma='scale',degree=3,C=10).fit(X_train, y_train)\n",
    "    print(\"Accuracy for each iteration:\")\n",
    "    print(classfy.score(X_test,y_test))\n",
    "    p = classfy.predict(X_test)\n",
    "    print(classification_report(y_test,p))"
   ]
  },
  {
   "cell_type": "markdown",
   "metadata": {},
   "source": [
    "### return a trained ML model in .pickle format"
   ]
  },
  {
   "cell_type": "code",
   "execution_count": 200,
   "metadata": {},
   "outputs": [],
   "source": [
    "pickle.dump(classfy, open('model.pickle', 'wb'))"
   ]
  }
 ],
 "metadata": {
  "kernelspec": {
   "display_name": "Python 3",
   "language": "python",
   "name": "python3"
  },
  "language_info": {
   "codemirror_mode": {
    "name": "ipython",
    "version": 3
   },
   "file_extension": ".py",
   "mimetype": "text/x-python",
   "name": "python",
   "nbconvert_exporter": "python",
   "pygments_lexer": "ipython3",
   "version": "3.7.3"
  }
 },
 "nbformat": 4,
 "nbformat_minor": 2
}
